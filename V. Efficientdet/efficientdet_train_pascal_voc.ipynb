version https://git-lfs.github.com/spec/v1
oid sha256:e6de61e477608b7ad328f1cdc88da1f06fe97ec47fbf55fa0aecc79d49e62427
size 1451431
