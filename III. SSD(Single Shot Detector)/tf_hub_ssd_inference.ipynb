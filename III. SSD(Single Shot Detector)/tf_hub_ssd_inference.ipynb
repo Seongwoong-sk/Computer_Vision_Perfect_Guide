version https://git-lfs.github.com/spec/v1
oid sha256:ffe4c2b709d9a098ea4817c2c6d2fffaf125fef8435424e756ab81c5e48d4015
size 2501490
