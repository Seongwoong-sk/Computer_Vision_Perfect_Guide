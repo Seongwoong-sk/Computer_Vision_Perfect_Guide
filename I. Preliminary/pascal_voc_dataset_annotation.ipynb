version https://git-lfs.github.com/spec/v1
oid sha256:1aea7b1da003cb4e443458eff73f79712765819964dda299476c81fbad909a89
size 900970
